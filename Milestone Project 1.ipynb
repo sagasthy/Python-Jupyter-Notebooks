{
 "cells": [
  {
   "cell_type": "markdown",
   "metadata": {},
   "source": [
    "## Building Blocks"
   ]
  },
  {
   "cell_type": "code",
   "execution_count": 1,
   "metadata": {},
   "outputs": [],
   "source": [
    "from IPython.display import clear_output\n",
    "import random\n",
    "\n",
    "\n",
    "# Step 1\n",
    "def display_board(board):\n",
    "    \n",
    "    clear_output()\n",
    "    \n",
    "    print(board[7] + '|' + board[8] + '|' + board[9])\n",
    "    print(board[4] + '|' + board[5] + '|' + board[6])\n",
    "    print(board[1] + '|' + board[2] + '|' + board[3])\n",
    "    \n",
    "    \n",
    "# Step 2\n",
    "def player_input():\n",
    "    \n",
    "    '''\n",
    "    OUTPUT = (Player 1 marker, Player 2 marker)\n",
    "    '''\n",
    "    \n",
    "    marker = ''\n",
    "    \n",
    "    while not (marker == 'X' or marker == 'O'):\n",
    "        marker = input('Player 1: Choose X or O: ').upper()\n",
    "        \n",
    "    if marker == 'X':        \n",
    "        return ('X','O')\n",
    "    else:\n",
    "        return ('O','X')\n",
    "    \n",
    "    \n",
    "# Step 3\n",
    "def place_marker(board, marker, position):\n",
    "    \n",
    "    board[position] = marker\n",
    "    \n",
    "\n",
    "# Step 4\n",
    "def win_check(board, mark):\n",
    "    \n",
    "    # WIN TIC TAC TOE?\n",
    "    return (\n",
    "        \n",
    "    # ALL ROWS, and check to see if they all share same marker\n",
    "    (board[1] == mark and board[2] == mark and board[3] == mark) or\n",
    "    (board[4] == mark and board[5] == mark and board[6] == mark) or\n",
    "    (board[7] == mark and board[8] == mark and board[9] == mark)\n",
    "        \n",
    "    or\n",
    "    \n",
    "    # ALL COLUMNS, and check to see if they all share same marker\n",
    "    (board[1] == mark and board[4] == mark and board[7] == mark) or\n",
    "    (board[2] == mark and board[5] == mark and board[8] == mark) or\n",
    "    (board[3] == mark and board[6] == mark and board[9] == mark)\n",
    "        \n",
    "    or\n",
    "    \n",
    "    # 2 DIAGONALS, and check to see if they all share same marker\n",
    "    (board[1] == board[5] == board[9] == mark) or\n",
    "    (board[3] == board[5] == board[7] == mark)\n",
    "        \n",
    "    )\n",
    "\n",
    "\n",
    "# Step 5 \n",
    "def choose_first():\n",
    "    \n",
    "    flip = random.randint(0,1)\n",
    "    \n",
    "    if flip == 0:\n",
    "        return 'Player 1'\n",
    "    else:\n",
    "        return 'Player 2'\n",
    "    \n",
    "\n",
    "# Step 6\n",
    "def space_check(board, position):\n",
    "    \n",
    "    return board[position] == ' '\n",
    "\n",
    "\n",
    "# Step 7\n",
    "def full_board_check(board):\n",
    "    \n",
    "    for i in range(1,10):\n",
    "        if space_check(board, i):\n",
    "            return False\n",
    "    \n",
    "    # Board is full\n",
    "    return True\n",
    "\n",
    "\n",
    "# Step 8\n",
    "def player_choice(board):\n",
    "    \n",
    "    position = 0\n",
    "    \n",
    "    while position not in [1,2,3,4,5,6,7,8,9] or not space_check(board, position):\n",
    "        position = int(input('Choose a position (1-9) '))\n",
    "        \n",
    "    return position\n",
    "\n",
    "\n",
    "# Step 9\n",
    "def replay():\n",
    "    \n",
    "    choice = input('Play again? Enter Y or N')\n",
    "    \n",
    "    return choice == 'Y'"
   ]
  },
  {
   "cell_type": "markdown",
   "metadata": {},
   "source": [
    "# Actual code that uses the above building blocks to run the game"
   ]
  },
  {
   "cell_type": "code",
   "execution_count": 2,
   "metadata": {},
   "outputs": [
    {
     "name": "stdout",
     "output_type": "stream",
     "text": [
      " | | \n",
      " | | \n",
      "O|O|O\n",
      "Player 1 has won !!!\n",
      "Play again? Enter Y or NN\n"
     ]
    }
   ],
   "source": [
    "# While loop to keep running the game\n",
    "print('Welcome to TIC TAC TOE')\n",
    "\n",
    "while True:\n",
    "    \n",
    "    # PLAY THE GAME\n",
    "    \n",
    "    # Set up board, player 1 and their marker\n",
    "    the_board = [' ']*10\n",
    "    player1_marker, player2_marker = player_input()\n",
    "    \n",
    "    turn = choose_first()\n",
    "    print(turn + ' will go first')\n",
    "    \n",
    "    play_game = input('Ready to play? Y or N')\n",
    "    \n",
    "    if play_game == 'Y':\n",
    "        game_on = True\n",
    "    else:\n",
    "        game_on = False\n",
    "    \n",
    "    # Game play\n",
    "    while game_on:\n",
    "        \n",
    "        if turn == 'Player 1':\n",
    "            \n",
    "            display_board(the_board)\n",
    "            \n",
    "            #Choose a position\n",
    "            position = player_choice(the_board)\n",
    "            \n",
    "            place_marker(the_board, player1_marker, position)\n",
    "            \n",
    "            if win_check(the_board, player1_marker):\n",
    "                \n",
    "                display_board(the_board)\n",
    "                print('Player 1 has won !!!')\n",
    "                game_on = False\n",
    "                \n",
    "            else:\n",
    "                \n",
    "                if full_board_check(the_board):\n",
    "                    display_board(the_board)\n",
    "                    print('TIE GAME !!!')\n",
    "                    break\n",
    "                    # game_on = False\n",
    "                \n",
    "                else:\n",
    "                    turn = 'Player 2'\n",
    "            \n",
    "        \n",
    "        else:\n",
    "            \n",
    "            display_board(the_board)\n",
    "            \n",
    "            #Choose a position\n",
    "            position = player_choice(the_board)\n",
    "            \n",
    "            place_marker(the_board, player1_marker, position)\n",
    "            \n",
    "            if win_check(the_board, player1_marker):\n",
    "                \n",
    "                display_board(the_board)\n",
    "                print('Player 2 has won !!!')\n",
    "                game_on = False\n",
    "                \n",
    "            else:\n",
    "                \n",
    "                if full_board_check(the_board):\n",
    "                    display_board(the_board)\n",
    "                    print('TIE GAME !!!')\n",
    "                    break\n",
    "                    # game_on = False\n",
    "                \n",
    "                else:\n",
    "                    turn = 'Player 1'\n",
    "\n",
    "\n",
    "# Break out of the while look on replay()\n",
    "    if not replay():\n",
    "        break"
   ]
  },
  {
   "cell_type": "markdown",
   "metadata": {},
   "source": [
    "## Testing the step 1 - the board display"
   ]
  },
  {
   "cell_type": "code",
   "execution_count": 2,
   "metadata": {},
   "outputs": [
    {
     "name": "stdout",
     "output_type": "stream",
     "text": [
      "X|O|X\n",
      "O|X|O\n",
      "X|O|X\n"
     ]
    }
   ],
   "source": [
    "test_board = ['#','X','O','X','O','X','O','X','O','X']\n",
    "display_board(test_board)\n",
    "display_board(test_board)"
   ]
  },
  {
   "cell_type": "markdown",
   "metadata": {},
   "source": [
    "## Testing the step 2 - players markers based on input selection"
   ]
  },
  {
   "cell_type": "code",
   "execution_count": 3,
   "metadata": {},
   "outputs": [
    {
     "name": "stdout",
     "output_type": "stream",
     "text": [
      "Player 1: Choose X or O: x\n"
     ]
    }
   ],
   "source": [
    "player1_marker, player2_marker = player_input()"
   ]
  },
  {
   "cell_type": "code",
   "execution_count": 4,
   "metadata": {},
   "outputs": [
    {
     "data": {
      "text/plain": [
       "'X'"
      ]
     },
     "execution_count": 4,
     "metadata": {},
     "output_type": "execute_result"
    }
   ],
   "source": [
    "player1_marker"
   ]
  },
  {
   "cell_type": "code",
   "execution_count": 5,
   "metadata": {},
   "outputs": [
    {
     "data": {
      "text/plain": [
       "'O'"
      ]
     },
     "execution_count": 5,
     "metadata": {},
     "output_type": "execute_result"
    }
   ],
   "source": [
    "player2_marker"
   ]
  },
  {
   "cell_type": "code",
   "execution_count": 6,
   "metadata": {},
   "outputs": [
    {
     "name": "stdout",
     "output_type": "stream",
     "text": [
      "Player 1: Choose X or O: o\n"
     ]
    }
   ],
   "source": [
    "player1_marker, player2_marker = player_input()"
   ]
  },
  {
   "cell_type": "code",
   "execution_count": 7,
   "metadata": {},
   "outputs": [
    {
     "data": {
      "text/plain": [
       "'O'"
      ]
     },
     "execution_count": 7,
     "metadata": {},
     "output_type": "execute_result"
    }
   ],
   "source": [
    "player1_marker"
   ]
  },
  {
   "cell_type": "code",
   "execution_count": 8,
   "metadata": {},
   "outputs": [
    {
     "data": {
      "text/plain": [
       "'X'"
      ]
     },
     "execution_count": 8,
     "metadata": {},
     "output_type": "execute_result"
    }
   ],
   "source": [
    "player2_marker"
   ]
  },
  {
   "cell_type": "markdown",
   "metadata": {},
   "source": [
    "## Testing the step 3 - display the modified board"
   ]
  },
  {
   "cell_type": "code",
   "execution_count": 10,
   "metadata": {},
   "outputs": [
    {
     "data": {
      "text/plain": [
       "['#', 'X', 'O', 'X', 'O', 'X', 'O', 'X', 'O', 'X']"
      ]
     },
     "execution_count": 10,
     "metadata": {},
     "output_type": "execute_result"
    }
   ],
   "source": [
    "test_board"
   ]
  },
  {
   "cell_type": "code",
   "execution_count": 12,
   "metadata": {},
   "outputs": [
    {
     "name": "stdout",
     "output_type": "stream",
     "text": [
      "X|$|X\n",
      "O|X|O\n",
      "X|O|X\n"
     ]
    }
   ],
   "source": [
    "place_marker(test_board, '$', 8)\n",
    "display_board(test_board)"
   ]
  },
  {
   "cell_type": "markdown",
   "metadata": {},
   "source": [
    "## Testing the step 4 - win check against test board, should return true"
   ]
  },
  {
   "cell_type": "code",
   "execution_count": 19,
   "metadata": {},
   "outputs": [
    {
     "name": "stdout",
     "output_type": "stream",
     "text": [
      "X|$|X\n",
      "O|X|O\n",
      "X|O|X\n"
     ]
    },
    {
     "data": {
      "text/plain": [
       "True"
      ]
     },
     "execution_count": 19,
     "metadata": {},
     "output_type": "execute_result"
    }
   ],
   "source": [
    "display_board(test_board)\n",
    "win_check(test_board, 'X')"
   ]
  },
  {
   "cell_type": "code",
   "execution_count": null,
   "metadata": {},
   "outputs": [],
   "source": []
  }
 ],
 "metadata": {
  "kernelspec": {
   "display_name": "Python 3",
   "language": "python",
   "name": "python3"
  },
  "language_info": {
   "codemirror_mode": {
    "name": "ipython",
    "version": 3
   },
   "file_extension": ".py",
   "mimetype": "text/x-python",
   "name": "python",
   "nbconvert_exporter": "python",
   "pygments_lexer": "ipython3",
   "version": "3.7.4"
  }
 },
 "nbformat": 4,
 "nbformat_minor": 2
}
